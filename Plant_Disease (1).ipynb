{
  "nbformat": 4,
  "nbformat_minor": 0,
  "metadata": {
    "colab": {
      "provenance": []
    },
    "kernelspec": {
      "name": "python3",
      "display_name": "Python 3"
    },
    "language_info": {
      "name": "python"
    },
    "gpuClass": "standard"
  },
  "cells": [
    {
      "cell_type": "code",
      "execution_count": null,
      "metadata": {
        "id": "nVTsssPaRqtO"
      },
      "outputs": [],
      "source": [
        "import numpy as np\n",
        "import pandas as pd\n",
        "import matplotlib.pyplot as plt\n",
        "%matplotlib inline\n",
        "import seaborn as sns\n",
        "import cv2\n",
        "import os\n",
        "from tqdm import tqdm\n",
        "from sklearn.metrics import confusion_matrix\n",
        "from sklearn.model_selection import train_test_split\n",
        "from keras.utils.np_utils import to_categorical\n",
        "from keras.models import Sequential, load_model\n",
        "from keras.layers import Dense, Dropout, Flatten, Conv2D, MaxPool2D, BatchNormalization\n",
        "from keras.optimizers import Adam\n",
        "from keras.preprocessing.image import ImageDataGenerator\n",
        "from keras.callbacks import ModelCheckpoint, ReduceLROnPlateau"
      ]
    },
    {
      "cell_type": "code",
      "source": [
        "species = ['Pepper Bell-Bacterial', 'Pepper Bell Healthy', 'Potato Early Blight', 'Potato Healthy', 'Potato Late Blight', 'Tomato Target Spot',\n",
        "          'Tomato Mosaic Virus', 'Tomato YellowLeaf Curl Virus','Tomato Bacterial Spot', 'TomatoEarly Blight', 'Tomato Healthy' , 'Tomato Late BLight'\n",
        "          'Tomato Leaf Mold', 'Tomato Septoria Leaf Spot' , 'Tomato Spider mites Two spotted spider mite']\n",
        "data_dir = 'D:/Term Project/Plant Village/'\n",
        "train_dir = os.path.join(data_dir, 'test')\n",
        "test_dir = os.path.join(data_dir, 'validation')"
      ],
      "metadata": {
        "id": "76Dr0N77cF5N"
      },
      "execution_count": null,
      "outputs": []
    },
    {
      "cell_type": "code",
      "source": [
        "# Organize training files into DataFrame\n",
        "train_data = []\n",
        "for species_id, sp in enumerate(species):\n",
        "    for file in os.listdir(os.path.join(train_dir, sp)):\n",
        "        train_data.append(['train/{}/{}'.format(sp, file), species_id, sp])\n",
        "        \n",
        "train = pd.DataFrame(train_data, columns=['File', 'SpeciesId','Species'])\n",
        "train.head()"
      ],
      "metadata": {
        "id": "lyaqB2VMrj4E"
      },
      "execution_count": null,
      "outputs": []
    },
    {
      "cell_type": "code",
      "source": [
        "# Display images for different species\n",
        "def plot_species(species, rows, cols):\n",
        "    fig, ax = plt.subplots(rows, cols, figsize=(12, 12))\n",
        "    species_files = train['File'][train['Species'] == species].values\n",
        "    n = 0\n",
        "    for i in range(rows):\n",
        "        for j in range(cols):\n",
        "            image_path = os.path.join(data_dir, species_files[n])\n",
        "            ax[i, j].set_xticks([])\n",
        "            ax[i, j].set_yticks([])\n",
        "            ax[i, j].imshow(cv2.imread(image_path))\n",
        "            n += 1\n",
        "# Displays first n images of class from training set\n",
        "plot_species('Tomato Healthy', 5, 5)"
      ],
      "metadata": {
        "id": "eYIxQK5Xrs-u"
      },
      "execution_count": null,
      "outputs": []
    },
    {
      "cell_type": "code",
      "source": [
        "IMAGE_SIZE = 66\n",
        "\n",
        "def read_image(filepath):\n",
        "    return cv2.imread(os.path.join(data_dir, filepath)) # Loading a color image is the default flag\n",
        "# Resize image to target size\n",
        "def resize_image(image, image_size):\n",
        "    return cv2.resize(image.copy(), image_size, interpolation=cv2.INTER_AREA)"
      ],
      "metadata": {
        "id": "5EQ-QjuGrzR9"
      },
      "execution_count": null,
      "outputs": []
    },
    {
      "cell_type": "code",
      "source": [
        "# Image segmentation\n",
        "def create_mask(image):\n",
        "    # Convert from BGR to HSV color-space to extract colored object\n",
        "    image_hsv = cv2.cvtColor(image, cv2.COLOR_BGR2HSV)\n",
        "    # Define range of green in HSV\n",
        "    lower_green = np.array([30, 100, 50])\n",
        "    upper_green = np.array([85, 255, 255])\n",
        "    # Threshold the HSV image to get only green colors\n",
        "    mask = cv2.inRange(image_hsv, lower_green, upper_green)\n",
        "    # We will use a morphological operation called closing to close small holes in the image\n",
        "    # We need a kernel or structuring element to determine the nature of the operation\n",
        "    kernel = cv2.getStructuringElement(cv2.MORPH_ELLIPSE, (15, 15))\n",
        "    mask = cv2.morphologyEx(mask, cv2.MORPH_CLOSE, kernel)\n",
        "    return mask\n",
        "\n",
        "def segment_image(image):\n",
        "    mask = create_mask(image)\n",
        "    res = cv2.bitwise_and(image, image, mask=mask) # Bitwise-AND mask and original image\n",
        "    return res"
      ],
      "metadata": {
        "id": "ueCj3JxDC_K0"
      },
      "execution_count": null,
      "outputs": []
    },
    {
      "cell_type": "code",
      "source": [
        "def show_segmented_images(species, n):\n",
        "    fig, ax = plt.subplots(n, 4, figsize=(20, 20))\n",
        "    species_files = train['File'][train['Species'] == species].values\n",
        "    for i in range(n):\n",
        "        image = read_image(species_files[i])\n",
        "        image_masked = create_mask(image)\n",
        "        image_segmented = segment_image(image)\n",
        "        image_resized = resize_image(image_segmented, (IMAGE_SIZE, IMAGE_SIZE))\n",
        "        ax[i, 0].set_axis_off()\n",
        "        ax[i, 1].set_axis_off()\n",
        "        ax[i, 2].set_axis_off()\n",
        "        ax[i, 3].set_axis_off()\n",
        "        ax[i, 0].imshow(image)\n",
        "        ax[i, 1].imshow(image_masked)\n",
        "        ax[i, 2].imshow(image_segmented)\n",
        "        ax[i, 3].imshow(image_resized)\n",
        "# Displays first n images of class from training set\n",
        "show_segmented_images('Maize', 3)"
      ],
      "metadata": {
        "id": "pXi4zvY8r7RU"
      },
      "execution_count": null,
      "outputs": []
    },
    {
      "cell_type": "code",
      "source": [
        "X_train = np.zeros((train.shape[0], IMAGE_SIZE, IMAGE_SIZE, 3))\n",
        "for i, file in tqdm(enumerate(train['File'].values)):\n",
        "    image = read_image(file)\n",
        "    image_segmented = segment_image(image)\n",
        "    X_train[i] = resize_image(image_segmented, (IMAGE_SIZE, IMAGE_SIZE))\n",
        "# Normalize the data\n",
        "X_train = X_train / 255.\n",
        "print('Train Shape: {}'.format(X_train.shape))"
      ],
      "metadata": {
        "id": "U2LFGh-9sBlu"
      },
      "execution_count": null,
      "outputs": []
    },
    {
      "cell_type": "code",
      "source": [
        "BATCH_SIZE = 20\n",
        "EPOCHS = 10\n",
        "\n",
        "# Split the train and validation sets \n",
        "X_train, X_val, Y_train, Y_val = train_test_split(X_train, Y_train, test_size=0.1, random_state=SEED)"
      ],
      "metadata": {
        "id": "YNkHCkQ8sFkG"
      },
      "execution_count": null,
      "outputs": []
    },
    {
      "cell_type": "code",
      "source": [
        "from keras.preprocessing.image import ImageDataGenerator\n",
        "train_datagen = ImageDataGenerator(rescale = 1./225,\n",
        "                                   shear_range = 0.2,\n",
        "                                   zoom_range = 0.2,\n",
        "                                   horizontal_flip = True)\n",
        "test_datagen = ImageDataGenerator(rescale = 1./225)\n",
        "\n",
        "training_set = train_datagen.flow_from_directory('D:/Term Project/Plant Village/Train',\n",
        "                                                 target_size = (64, 64),\n",
        "                                                 batch_size = 32,\n",
        "                                                 class_mode = 'categorical')\n",
        "\n",
        "test_dataset = test_datagen.flow_from_directory('D:/Term Project/Plant Village/Validation',\n",
        "                                                target_size = (64, 64),\n",
        "                                                 batch_size = 32,\n",
        "                                                 class_mode = 'categorical'"
      ],
      "metadata": {
        "id": "macEILPqePab"
      },
      "execution_count": null,
      "outputs": []
    },
    {
      "cell_type": "code",
      "source": [
        "def construct_model():\n",
        "    model = Sequential()\n",
        "    \n",
        "    model.add(Conv2D(filters=32, kernel_size=(3, 3), strides=(1, 1), input_shape=(IMAGE_SIZE, IMAGE_SIZE, 3),\n",
        "                activation='relu'))\n",
        "    model.add(BatchNormalization()) # Normalize the activations of the previous layer at each batch\n",
        "    model.add(Conv2D(filters=32, kernel_size=(3, 3), strides=(1, 1), activation='relu'))\n",
        "    model.add(BatchNormalization())\n",
        "    model.add(MaxPool2D(pool_size=(2, 2), strides=(2, 2)))\n",
        "\n",
        "    model.add(Conv2D(filters=64, kernel_size=(3, 3), strides=(1, 1), activation='relu'))\n",
        "    model.add(BatchNormalization())\n",
        "    model.add(Conv2D(filters=64, kernel_size=(3, 3), strides=(1, 1), activation='relu'))\n",
        "    model.add(BatchNormalization())\n",
        "    model.add(MaxPool2D(pool_size=(2, 2), strides=(2, 2)))\n",
        "\n",
        "    model.add(Conv2D(filters=128, kernel_size=(3, 3), strides=(1, 1), activation='relu'))\n",
        "    model.add(BatchNormalization())\n",
        "    model.add(Conv2D(filters=128, kernel_size=(3, 3), strides=(1, 1), activation='relu'))\n",
        "    model.add(BatchNormalization())\n",
        "    model.add(MaxPool2D(pool_size=(2, 2), strides=(2, 2)))\n",
        "\n",
        "    model.add(Flatten()) # Flatten the input\n",
        "    model.add(Dense(256, activation='relu'))\n",
        "    model.add(Dense(12, activation='softmax'))\n",
        "    # Configure the learning process\n",
        "    # The loss function is the objective that the model will try to minimize\n",
        "    # For any classification problem, use accuracy metric\n",
        "    optimizer = Adam(lr=0.002, beta_1=0.9, beta_2=0.999, epsilon=0.1, decay=0.0)\n",
        "    model.compile(loss='categorical_crossentropy', optimizer=optimizer, metrics=['accuracy'])\n",
        "    \n",
        "    model.summary()\n",
        "    return model"
      ],
      "metadata": {
        "id": "Ehygbm5mgV02"
      },
      "execution_count": null,
      "outputs": []
    },
    {
      "cell_type": "code",
      "source": [
        "def train_model():\n",
        "    model = construct_model()\n",
        "    annealer = ReduceLROnPlateau(monitor='val_acc', factor=0.5, patience=5, verbose=1, min_lr=1e-5)\n",
        "    checkpoint = ModelCheckpoint('model.h5', verbose=1, save_best_only=True)\n",
        "    # Generates batches of image data with data augmentation\n",
        "    datagen = ImageDataGenerator(rotation_range=360, # Degree range for random rotations\n",
        "                            width_shift_range=0.2, # Range for random horizontal shifts\n",
        "                            height_shift_range=0.2, # Range for random vertical shifts\n",
        "                            zoom_range=0.2, # Range for random zoom\n",
        "                            horizontal_flip=True, # Randomly flip inputs horizontally\n",
        "                            vertical_flip=True) # Randomly flip inputs vertically\n",
        "    datagen.fit(X_train)\n",
        "    # Fits the model on batches with real-time data augmentation\n",
        "    hist = model.fit_generator(datagen.flow(X_train, Y_train, batch_size=BATCH_SIZE),\n",
        "                   steps_per_epoch=X_train.shape[0] // BATCH_SIZE,\n",
        "                   epochs=EPOCHS,\n",
        "                   verbose=2,\n",
        "                   callbacks=[annealer, checkpoint],\n",
        "                   validation_data=(X_val, Y_val))\n",
        "# train_model()"
      ],
      "metadata": {
        "id": "9ztRCwWhsSoI"
      },
      "execution_count": null,
      "outputs": []
    },
    {
      "cell_type": "code",
      "source": [
        "final_model = load_model('../input/plant-seedling-models/model.h5')\n",
        "final_loss, final_accuracy = final_model.evaluate(X_val, Y_val)\n",
        "print('Final Loss: {}, Final Accuracy: {}'.format(final_loss, final_accuracy))"
      ],
      "metadata": {
        "id": "C118WaVODQvr"
      },
      "execution_count": null,
      "outputs": []
    },
    {
      "cell_type": "code",
      "source": [
        "Y_pred = final_model.predict(X_val)\n",
        "\n",
        "Y_pred = np.argmax(Y_pred, axis=1)\n",
        "Y_true = np.argmax(Y_val, axis=1)\n",
        "\n",
        "cm = confusion_matrix(Y_true, Y_pred)\n",
        "plt.figure(figsize=(12, 12))\n",
        "ax = sns.heatmap(cm, cmap=plt.cm.Greens, annot=True, square=True, xticklabels=species, yticklabels=species)\n",
        "ax.set_ylabel('Actual', fontsize=40)\n",
        "ax.set_xlabel('Predicted', fontsize=40)"
      ],
      "metadata": {
        "id": "tqtlG4KtDT99"
      },
      "execution_count": null,
      "outputs": []
    },
    {
      "cell_type": "code",
      "source": [
        "X_test = np.zeros((test.shape[0], IMAGE_SIZE, IMAGE_SIZE, 3))\n",
        "for i, file in tqdm(enumerate(test['Filepath'].values)):\n",
        "    image = read_image(file)\n",
        "    image_segmented = segment_image(image)\n",
        "    X_test[i] = resize_image(image_segmented, (IMAGE_SIZE, IMAGE_SIZE))\n",
        "X_test = X_test / 255."
      ],
      "metadata": {
        "id": "F2NQNBzpDXUO"
      },
      "execution_count": null,
      "outputs": []
    }
  ]
}